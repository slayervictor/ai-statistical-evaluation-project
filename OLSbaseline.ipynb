{
 "cells": [
  {
   "cell_type": "markdown",
   "metadata": {},
   "source": [
    "# Det her er bare en test for at se om det faktisk er en mulighed at bruge linear regression"
   ]
  },
  {
   "cell_type": "markdown",
   "metadata": {},
   "source": [
    "Libraries"
   ]
  },
  {
   "cell_type": "code",
   "execution_count": 8,
   "metadata": {},
   "outputs": [],
   "source": [
    "import statsmodels.api as sm\n",
    "import pandas as pd\n",
    "import numpy as np\n",
    "from scipy.stats import boxcox\n",
    "from sklearn.preprocessing import StandardScaler"
   ]
  },
  {
   "cell_type": "markdown",
   "metadata": {},
   "source": [
    "Loading the data"
   ]
  },
  {
   "cell_type": "code",
   "execution_count": 9,
   "metadata": {},
   "outputs": [
    {
     "data": {
      "text/html": [
       "<div>\n",
       "<style scoped>\n",
       "    .dataframe tbody tr th:only-of-type {\n",
       "        vertical-align: middle;\n",
       "    }\n",
       "\n",
       "    .dataframe tbody tr th {\n",
       "        vertical-align: top;\n",
       "    }\n",
       "\n",
       "    .dataframe thead th {\n",
       "        text-align: right;\n",
       "    }\n",
       "</style>\n",
       "<table border=\"1\" class=\"dataframe\">\n",
       "  <thead>\n",
       "    <tr style=\"text-align: right;\">\n",
       "      <th></th>\n",
       "      <th>HR_Mean</th>\n",
       "      <th>HR_std_log</th>\n",
       "      <th>HR_Max_boxcox</th>\n",
       "      <th>HR_AUC_inverse</th>\n",
       "      <th>Frustrated</th>\n",
       "      <th>const</th>\n",
       "    </tr>\n",
       "  </thead>\n",
       "  <tbody>\n",
       "    <tr>\n",
       "      <th>0</th>\n",
       "      <td>0.261529</td>\n",
       "      <td>-0.592147</td>\n",
       "      <td>-0.269578</td>\n",
       "      <td>-0.009167</td>\n",
       "      <td>1</td>\n",
       "      <td>1</td>\n",
       "    </tr>\n",
       "    <tr>\n",
       "      <th>1</th>\n",
       "      <td>-0.672305</td>\n",
       "      <td>-1.034575</td>\n",
       "      <td>-0.863799</td>\n",
       "      <td>0.305442</td>\n",
       "      <td>5</td>\n",
       "      <td>1</td>\n",
       "    </tr>\n",
       "    <tr>\n",
       "      <th>2</th>\n",
       "      <td>-0.352626</td>\n",
       "      <td>-0.632567</td>\n",
       "      <td>-0.609914</td>\n",
       "      <td>0.400355</td>\n",
       "      <td>0</td>\n",
       "      <td>1</td>\n",
       "    </tr>\n",
       "    <tr>\n",
       "      <th>3</th>\n",
       "      <td>0.388771</td>\n",
       "      <td>-0.292721</td>\n",
       "      <td>-0.121668</td>\n",
       "      <td>-0.650189</td>\n",
       "      <td>1</td>\n",
       "      <td>1</td>\n",
       "    </tr>\n",
       "    <tr>\n",
       "      <th>4</th>\n",
       "      <td>0.175560</td>\n",
       "      <td>0.329823</td>\n",
       "      <td>0.311460</td>\n",
       "      <td>-0.289564</td>\n",
       "      <td>5</td>\n",
       "      <td>1</td>\n",
       "    </tr>\n",
       "  </tbody>\n",
       "</table>\n",
       "</div>"
      ],
      "text/plain": [
       "    HR_Mean  HR_std_log  HR_Max_boxcox  HR_AUC_inverse  Frustrated  const\n",
       "0  0.261529   -0.592147      -0.269578       -0.009167           1      1\n",
       "1 -0.672305   -1.034575      -0.863799        0.305442           5      1\n",
       "2 -0.352626   -0.632567      -0.609914        0.400355           0      1\n",
       "3  0.388771   -0.292721      -0.121668       -0.650189           1      1\n",
       "4  0.175560    0.329823       0.311460       -0.289564           5      1"
      ]
     },
     "execution_count": 9,
     "metadata": {},
     "output_type": "execute_result"
    }
   ],
   "source": [
    "def get_standardizable_features(dataframe: pd.DataFrame):\n",
    "    return [x for x in dataframe.columns if x.startswith('HR')]\n",
    "\n",
    "\n",
    "scaler = StandardScaler()\n",
    "\n",
    "# Load data.\n",
    "hr_data = pd.read_csv('HR_data_transformed.csv', sep=',', header=0)\n",
    "hr_data.drop(['Unnamed: 0'], axis=1, inplace=True)\n",
    "tmp = hr_data.copy()\n",
    "\n",
    "# Transform data\n",
    "transform_data = True\n",
    "if transform_data:\n",
    "    to_log_transform = ['HR_std']\n",
    "    for col in to_log_transform:\n",
    "        tmp[col] = np.log(tmp[col])\n",
    "        tmp[col].name = col + '_log'\n",
    "        tmp.rename(columns={col: col + '_log'}, inplace=True)\n",
    "    to_inverse_transform = ['HR_AUC']\n",
    "    for col in to_inverse_transform:\n",
    "        tmp[col] = 1 / tmp[col]\n",
    "        tmp[col].name = col + '_inverse'\n",
    "        tmp.rename(columns={col: col + '_inverse'}, inplace=True)\n",
    "    to_boxcox_transform = ['HR_Max']\n",
    "    for col in to_boxcox_transform:\n",
    "        tmp[col], _ = boxcox(tmp[col] - tmp[col].min() + 1)\n",
    "        tmp[col].name = col + '_boxcox'\n",
    "        tmp.rename(columns={col: col + '_boxcox'}, inplace=True)\n",
    "\n",
    "# Standardize data\n",
    "standardized = True\n",
    "if standardized:\n",
    "    cols = get_standardizable_features(tmp)\n",
    "    tmp[cols] = scaler.fit_transform(tmp[cols])\n",
    "\n",
    "working_dataset = tmp.copy()\n",
    "\n",
    "# filtering off the non-HR features\n",
    "filtered_hr_data = working_dataset.copy()\n",
    "dropped = [\"HR_Median\",\"HR_Min\",\"Round\", \"Phase\", \"Individual\", \"Puzzler\", \"Cohort\"]\n",
    "filtered_hr_data['const'] = 1\n",
    "for column_to_drop in dropped:\n",
    "    filtered_hr_data.drop(column_to_drop, axis=1, inplace=True)\n",
    "\n",
    "X = filtered_hr_data.iloc[:, :-1]  # All columns except the last one\n",
    "Y = filtered_hr_data.iloc[:, -1]  # Last column\n",
    "\n",
    "filtered_hr_data.head()"
   ]
  },
  {
   "cell_type": "markdown",
   "metadata": {},
   "source": [
    "Fitting"
   ]
  },
  {
   "cell_type": "code",
   "execution_count": 10,
   "metadata": {},
   "outputs": [
    {
     "name": "stdout",
     "output_type": "stream",
     "text": [
      "                            OLS Regression Results                            \n",
      "==============================================================================\n",
      "Dep. Variable:             Frustrated   R-squared:                       0.037\n",
      "Model:                            OLS   Adj. R-squared:                  0.014\n",
      "Method:                 Least Squares   F-statistic:                     1.580\n",
      "Date:                Tue, 16 Jan 2024   Prob (F-statistic):              0.182\n",
      "Time:                        12:48:17   Log-Likelihood:                -344.69\n",
      "No. Observations:                 168   AIC:                             699.4\n",
      "Df Residuals:                     163   BIC:                             715.0\n",
      "Df Model:                           4                                         \n",
      "Covariance Type:            nonrobust                                         \n",
      "==================================================================================\n",
      "                     coef    std err          t      P>|t|      [0.025      0.975]\n",
      "----------------------------------------------------------------------------------\n",
      "const              2.2917      0.147     15.539      0.000       2.000       2.583\n",
      "HR_Mean            0.2698      0.296      0.913      0.363      -0.314       0.853\n",
      "HR_std_log         0.4792      0.307      1.561      0.120      -0.127       1.085\n",
      "HR_Max_boxcox     -0.3849      0.411     -0.937      0.350      -1.196       0.426\n",
      "HR_AUC_inverse    -0.1834      0.214     -0.858      0.392      -0.606       0.239\n",
      "==============================================================================\n",
      "Omnibus:                       19.657   Durbin-Watson:                   1.932\n",
      "Prob(Omnibus):                  0.000   Jarque-Bera (JB):               23.353\n",
      "Skew:                           0.908   Prob(JB):                     8.49e-06\n",
      "Kurtosis:                       3.191   Cond. No.                         5.90\n",
      "==============================================================================\n",
      "\n",
      "Notes:\n",
      "[1] Standard Errors assume that the covariance matrix of the errors is correctly specified.\n"
     ]
    }
   ],
   "source": [
    "model = sm.OLS(filtered_hr_data['Frustrated'], filtered_hr_data[['const', 'HR_Mean', 'HR_std_log','HR_Max_boxcox',\"HR_AUC_inverse\"]])\n",
    "results = model.fit()\n",
    "print(results.summary())"
   ]
  }
 ],
 "metadata": {
  "kernelspec": {
   "display_name": "Python 3",
   "language": "python",
   "name": "python3"
  },
  "language_info": {
   "codemirror_mode": {
    "name": "ipython",
    "version": 3
   },
   "file_extension": ".py",
   "mimetype": "text/x-python",
   "name": "python",
   "nbconvert_exporter": "python",
   "pygments_lexer": "ipython3",
   "version": "3.10.6"
  }
 },
 "nbformat": 4,
 "nbformat_minor": 2
}
