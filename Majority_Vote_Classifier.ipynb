{
 "cells": [
  {
   "cell_type": "markdown",
   "metadata": {},
   "source": [
    "Libraries"
   ]
  },
  {
   "cell_type": "code",
   "execution_count": 37,
   "metadata": {},
   "outputs": [],
   "source": [
    "import matplotlib.pyplot as plt\n",
    "%matplotlib inline\n",
    "import pandas as pd\n",
    "import numpy as np\n",
    "from scipy.stats import boxcox\n",
    "from sklearn.model_selection import train_test_split\n",
    "from sklearn.linear_model import LinearRegression\n",
    "from sklearn.metrics import mean_squared_error, accuracy_score\n",
    "from sklearn.preprocessing import StandardScaler\n",
    "from sklearn.ensemble import RandomForestClassifier\n",
    "import random\n",
    "from sklearn.model_selection import cross_validate,cross_val_score,LeaveOneOut\n",
    "from sklearn.metrics import recall_score\n",
    "from sklearn.metrics import accuracy_score, precision_score, recall_score, f1_score, confusion_matrix,roc_auc_score"
   ]
  },
  {
   "cell_type": "markdown",
   "metadata": {},
   "source": [
    "Loading the data"
   ]
  },
  {
   "cell_type": "code",
   "execution_count": 38,
   "metadata": {},
   "outputs": [
    {
     "data": {
      "text/html": [
       "<div>\n",
       "<style scoped>\n",
       "    .dataframe tbody tr th:only-of-type {\n",
       "        vertical-align: middle;\n",
       "    }\n",
       "\n",
       "    .dataframe tbody tr th {\n",
       "        vertical-align: top;\n",
       "    }\n",
       "\n",
       "    .dataframe thead th {\n",
       "        text-align: right;\n",
       "    }\n",
       "</style>\n",
       "<table border=\"1\" class=\"dataframe\">\n",
       "  <thead>\n",
       "    <tr style=\"text-align: right;\">\n",
       "      <th></th>\n",
       "      <th>HR_Mean</th>\n",
       "      <th>HR_std_log</th>\n",
       "      <th>HR_Max_boxcox</th>\n",
       "      <th>HR_AUC_inverse</th>\n",
       "      <th>Frustrated</th>\n",
       "    </tr>\n",
       "  </thead>\n",
       "  <tbody>\n",
       "    <tr>\n",
       "      <th>0</th>\n",
       "      <td>0.261529</td>\n",
       "      <td>-0.592147</td>\n",
       "      <td>-0.269578</td>\n",
       "      <td>-0.009167</td>\n",
       "      <td>0</td>\n",
       "    </tr>\n",
       "    <tr>\n",
       "      <th>1</th>\n",
       "      <td>-0.672305</td>\n",
       "      <td>-1.034575</td>\n",
       "      <td>-0.863799</td>\n",
       "      <td>0.305442</td>\n",
       "      <td>1</td>\n",
       "    </tr>\n",
       "    <tr>\n",
       "      <th>2</th>\n",
       "      <td>-0.352626</td>\n",
       "      <td>-0.632567</td>\n",
       "      <td>-0.609914</td>\n",
       "      <td>0.400355</td>\n",
       "      <td>0</td>\n",
       "    </tr>\n",
       "    <tr>\n",
       "      <th>3</th>\n",
       "      <td>0.388771</td>\n",
       "      <td>-0.292721</td>\n",
       "      <td>-0.121668</td>\n",
       "      <td>-0.650189</td>\n",
       "      <td>0</td>\n",
       "    </tr>\n",
       "    <tr>\n",
       "      <th>4</th>\n",
       "      <td>0.175560</td>\n",
       "      <td>0.329823</td>\n",
       "      <td>0.311460</td>\n",
       "      <td>-0.289564</td>\n",
       "      <td>1</td>\n",
       "    </tr>\n",
       "  </tbody>\n",
       "</table>\n",
       "</div>"
      ],
      "text/plain": [
       "    HR_Mean  HR_std_log  HR_Max_boxcox  HR_AUC_inverse  Frustrated\n",
       "0  0.261529   -0.592147      -0.269578       -0.009167           0\n",
       "1 -0.672305   -1.034575      -0.863799        0.305442           1\n",
       "2 -0.352626   -0.632567      -0.609914        0.400355           0\n",
       "3  0.388771   -0.292721      -0.121668       -0.650189           0\n",
       "4  0.175560    0.329823       0.311460       -0.289564           1"
      ]
     },
     "execution_count": 38,
     "metadata": {},
     "output_type": "execute_result"
    }
   ],
   "source": [
    "def get_standardizable_features(dataframe: pd.DataFrame):\n",
    "    return [x for x in dataframe.columns if x.startswith('HR')]\n",
    "\n",
    "\n",
    "scaler = StandardScaler()\n",
    "\n",
    "# Load data.\n",
    "hr_data = pd.read_csv('HR_data_transformed.csv', sep=',', header=0)\n",
    "hr_data.drop(['Unnamed: 0'], axis=1, inplace=True)\n",
    "tmp = hr_data.copy()\n",
    "\n",
    "# Transform data\n",
    "transform_data = True\n",
    "if transform_data:\n",
    "    to_log_transform = ['HR_std']\n",
    "    for col in to_log_transform:\n",
    "        tmp[col] = np.log(tmp[col])\n",
    "        tmp[col].name = col + '_log'\n",
    "        tmp.rename(columns={col: col + '_log'}, inplace=True)\n",
    "    to_inverse_transform = ['HR_AUC']\n",
    "    for col in to_inverse_transform:\n",
    "        tmp[col] = 1 / tmp[col]\n",
    "        tmp[col].name = col + '_inverse'\n",
    "        tmp.rename(columns={col: col + '_inverse'}, inplace=True)\n",
    "    to_boxcox_transform = ['HR_Max']\n",
    "    for col in to_boxcox_transform:\n",
    "        tmp[col], _ = boxcox(tmp[col] - tmp[col].min() + 1)\n",
    "        tmp[col].name = col + '_boxcox'\n",
    "        tmp.rename(columns={col: col + '_boxcox'}, inplace=True)\n",
    "\n",
    "# Standardize data\n",
    "standardized = True\n",
    "if standardized:\n",
    "    cols = get_standardizable_features(tmp)\n",
    "    tmp[cols] = scaler.fit_transform(tmp[cols])\n",
    "\n",
    "working_dataset = tmp.copy()\n",
    "\n",
    "# filtering off the non-HR features\n",
    "filtered_hr_data = working_dataset.copy()\n",
    "dropped = [\"HR_Median\",\"HR_Min\",\"Round\", \"Phase\", \"Individual\", \"Puzzler\", \"Cohort\"]\n",
    "\n",
    "for column_to_drop in dropped:\n",
    "    filtered_hr_data.drop(column_to_drop, axis=1, inplace=True)\n",
    "\n",
    "X = filtered_hr_data.iloc[:, :-1]  # All columns except the last one\n",
    "Y = filtered_hr_data.iloc[:, -1]  # Last column\n",
    "\n",
    "\n",
    "threshold = 5\n",
    "# Create a new binary variable indicating High or Low frustration based on the threshold\n",
    "Y_grouped = (Y >= threshold).astype(int)\n",
    "Y = Y_grouped\n",
    "# Replace the original 'Frustrated' variable with the grouped variable in your DataFrame\n",
    "filtered_hr_data['Frustrated'] = Y_grouped\n",
    "\n",
    "filtered_hr_data.head()"
   ]
  },
  {
   "cell_type": "markdown",
   "metadata": {},
   "source": [
    "Majority Votin' LOOCV"
   ]
  },
  {
   "cell_type": "code",
   "execution_count": 39,
   "metadata": {},
   "outputs": [],
   "source": [
    "%%capture\n",
    "accuracyArray = []\n",
    "\n",
    "# Initialize confusion matrix\n",
    "overall_conf_matrix = np.zeros((2, 2), dtype=int)\n",
    "\n",
    "for i in range(len(Y)):\n",
    "    X_train = X.drop(i)\n",
    "    X_test = X.loc[i].values.reshape(1, -1)\n",
    "    y_train = Y.drop(i)\n",
    "\n",
    "    # Use majority vote as the prediction\n",
    "    majority_vote_prediction = y_train.mode().iloc[0]\n",
    "\n",
    "    # Update confusion matrix\n",
    "    conf_matrix = confusion_matrix([Y.iloc[i]], [majority_vote_prediction])\n",
    "    overall_conf_matrix += conf_matrix\n",
    "\n",
    "    # Quick and easy evaluation\n",
    "    accuracy = accuracy_score([Y.iloc[i]], [majority_vote_prediction])\n",
    "    accuracyArray.append(accuracy)\n",
    "\n",
    "average_accuracy = np.mean(accuracyArray)"
   ]
  },
  {
   "cell_type": "code",
   "execution_count": 40,
   "metadata": {},
   "outputs": [
    {
     "name": "stdout",
     "output_type": "stream",
     "text": [
      "Average Accuracy (Majority Vote): 85.71428571428571\n",
      "Confusion Matrix:\n",
      "[[144 144]\n",
      " [168 144]]\n"
     ]
    }
   ],
   "source": [
    "print(\"Average Accuracy (Majority Vote):\", average_accuracy * 100)\n",
    "print(\"Confusion Matrix:\")\n",
    "print(overall_conf_matrix)"
   ]
  }
 ],
 "metadata": {
  "kernelspec": {
   "display_name": "Python 3",
   "language": "python",
   "name": "python3"
  },
  "language_info": {
   "codemirror_mode": {
    "name": "ipython",
    "version": 3
   },
   "file_extension": ".py",
   "mimetype": "text/x-python",
   "name": "python",
   "nbconvert_exporter": "python",
   "pygments_lexer": "ipython3",
   "version": "3.10.6"
  }
 },
 "nbformat": 4,
 "nbformat_minor": 2
}
