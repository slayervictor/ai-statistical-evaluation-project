{
 "cells": [
  {
   "cell_type": "code",
   "execution_count": 353,
   "metadata": {},
   "outputs": [],
   "source": [
    "import matplotlib.pyplot as plt\n",
    "%matplotlib inline\n",
    "import pandas as pd\n",
    "import numpy as np\n",
    "from sklearn.model_selection import train_test_split\n",
    "from sklearn.linear_model import LinearRegression\n",
    "from sklearn.metrics import mean_squared_error, accuracy_score\n",
    "from sklearn.preprocessing import StandardScaler\n",
    "import random\n",
    "from sklearn.model_selection import cross_validate,cross_val_score,LeaveOneOut\n",
    "from sklearn.metrics import recall_score\n"
   ]
  },
  {
   "cell_type": "code",
   "execution_count": 354,
   "metadata": {},
   "outputs": [
    {
     "data": {
      "text/html": [
       "<div>\n",
       "<style scoped>\n",
       "    .dataframe tbody tr th:only-of-type {\n",
       "        vertical-align: middle;\n",
       "    }\n",
       "\n",
       "    .dataframe tbody tr th {\n",
       "        vertical-align: top;\n",
       "    }\n",
       "\n",
       "    .dataframe thead th {\n",
       "        text-align: right;\n",
       "    }\n",
       "</style>\n",
       "<table border=\"1\" class=\"dataframe\">\n",
       "  <thead>\n",
       "    <tr style=\"text-align: right;\">\n",
       "      <th></th>\n",
       "      <th>HR_Mean</th>\n",
       "      <th>HR_Min</th>\n",
       "      <th>HR_Max</th>\n",
       "      <th>HR_AUC</th>\n",
       "      <th>Frustrated</th>\n",
       "    </tr>\n",
       "  </thead>\n",
       "  <tbody>\n",
       "    <tr>\n",
       "      <th>0</th>\n",
       "      <td>77.965186</td>\n",
       "      <td>73.23</td>\n",
       "      <td>83.37</td>\n",
       "      <td>22924.945</td>\n",
       "      <td>1</td>\n",
       "    </tr>\n",
       "    <tr>\n",
       "      <th>1</th>\n",
       "      <td>70.981097</td>\n",
       "      <td>67.12</td>\n",
       "      <td>78.22</td>\n",
       "      <td>21930.400</td>\n",
       "      <td>5</td>\n",
       "    </tr>\n",
       "    <tr>\n",
       "      <th>2</th>\n",
       "      <td>73.371959</td>\n",
       "      <td>67.88</td>\n",
       "      <td>80.22</td>\n",
       "      <td>21647.085</td>\n",
       "      <td>0</td>\n",
       "    </tr>\n",
       "    <tr>\n",
       "      <th>3</th>\n",
       "      <td>78.916822</td>\n",
       "      <td>72.32</td>\n",
       "      <td>84.92</td>\n",
       "      <td>25258.905</td>\n",
       "      <td>1</td>\n",
       "    </tr>\n",
       "    <tr>\n",
       "      <th>4</th>\n",
       "      <td>77.322226</td>\n",
       "      <td>70.52</td>\n",
       "      <td>90.15</td>\n",
       "      <td>23890.565</td>\n",
       "      <td>5</td>\n",
       "    </tr>\n",
       "  </tbody>\n",
       "</table>\n",
       "</div>"
      ],
      "text/plain": [
       "     HR_Mean  HR_Min  HR_Max     HR_AUC  Frustrated\n",
       "0  77.965186   73.23   83.37  22924.945           1\n",
       "1  70.981097   67.12   78.22  21930.400           5\n",
       "2  73.371959   67.88   80.22  21647.085           0\n",
       "3  78.916822   72.32   84.92  25258.905           1\n",
       "4  77.322226   70.52   90.15  23890.565           5"
      ]
     },
     "execution_count": 354,
     "metadata": {},
     "output_type": "execute_result"
    }
   ],
   "source": [
    "seed = random.randint(0,10000)\n",
    "# Loading the data\n",
    "hr_data = pd.read_csv('HR_data_transformed.csv', sep=',', header=0)\n",
    "hr_data.drop(['Unnamed: 0'], axis=1, inplace=True)\n",
    "# Vi filtrerer dataen, så de variables i \"dropped\" ikke er med - og da vi faktisk kun skal bruge HR variablerne, dropper vi alle de andre.\n",
    "filtered_hr_data = hr_data.copy()\n",
    "dropped = [\"HR_Median\", \"HR_std\", \"Round\", \"Phase\", \"Individual\", \"Puzzler\", \"Cohort\"]\n",
    "\n",
    "for column_to_drop in dropped:\n",
    "    filtered_hr_data.drop(column_to_drop, axis=1, inplace=True)\n",
    "\n",
    "X = filtered_hr_data.iloc[:, :-1]  # All columns except the last one\n",
    "Y = filtered_hr_data.iloc[:, -1]   # Last column\n",
    "\n",
    "# Split the data into training and testing sets\n",
    "X_train, X_test, y_train, y_test = train_test_split(X, Y, test_size=0.2,random_state=seed)\n",
    "\n",
    "# Standardize the features using StandardScaler\n",
    "scaler = StandardScaler()\n",
    "X_train_scaled = scaler.fit_transform(X_train)\n",
    "X_test_scaled = scaler.transform(X_test)\n",
    "\n",
    "\n",
    "filtered_hr_data.head()"
   ]
  },
  {
   "cell_type": "code",
   "execution_count": 355,
   "metadata": {},
   "outputs": [
    {
     "name": "stdout",
     "output_type": "stream",
     "text": [
      "     TrueValues  PredictedValues\n",
      "38            2                2\n",
      "130           4                3\n",
      "11            0                3\n",
      "47            2                3\n",
      "125           1                2\n",
      "97            5                2\n",
      "121           3                2\n",
      "64            7                2\n",
      "80            3                2\n",
      "44            2                3\n",
      "162           4                2\n",
      "82            3                3\n",
      "2             0                2\n",
      "58            3                2\n",
      "137           1                2\n",
      "19            5                2\n",
      "30            4                3\n",
      "112           2                3\n",
      "120           0                2\n",
      "72            3                2\n",
      "113           1                2\n",
      "96            2                2\n",
      "14            1                2\n",
      "49            3                2\n",
      "0             1                2\n",
      "71            0                3\n",
      "3             1                2\n",
      "67            5                2\n",
      "91            3                3\n",
      "106           2                2\n",
      "102           4                2\n",
      "61            2                2\n",
      "99            1                2\n",
      "136           5                2 \n",
      "Without some HR features \n",
      "Accuracy:  17.647058823529413 \n",
      "MSE:  3.2941176470588234\n"
     ]
    }
   ],
   "source": [
    "# Let's make the Baseline model - Simple Linear Regression model!\n",
    "reg = LinearRegression()\n",
    "\n",
    "# fit\n",
    "reg.fit(X_train_scaled, y_train)\n",
    "\n",
    "# predict\n",
    "y_pred = reg.predict(X_test_scaled).round().astype(int)\n",
    "\n",
    "# quick and easy evaluation\n",
    "mse = mean_squared_error(y_test, y_pred)\n",
    "accuracy = accuracy_score(y_test,y_pred)\n",
    "predictions_df = pd.DataFrame({'TrueValues': y_test, 'PredictedValues': y_pred})\n",
    "\n",
    "print(predictions_df,\"\\nWithout some HR features\",\"\\nAccuracy: \",accuracy*100,\"\\nMSE: \",mse)"
   ]
  },
  {
   "cell_type": "code",
   "execution_count": 356,
   "metadata": {},
   "outputs": [
    {
     "name": "stdout",
     "output_type": "stream",
     "text": [
      "     TrueValues  PredictedValues\n",
      "38            2                2\n",
      "130           4                3\n",
      "11            0                3\n",
      "47            2                3\n",
      "125           1                2\n",
      "97            5                2\n",
      "121           3                2\n",
      "64            7                2\n",
      "80            3                2\n",
      "44            2                2\n",
      "162           4                2\n",
      "82            3                3\n",
      "2             0                2\n",
      "58            3                2\n",
      "137           1                2\n",
      "19            5                2\n",
      "30            4                3\n",
      "112           2                2\n",
      "120           0                2\n",
      "72            3                2\n",
      "113           1                2\n",
      "96            2                2\n",
      "14            1                2\n",
      "49            3                2\n",
      "0             1                2\n",
      "71            0                3\n",
      "3             1                2\n",
      "67            5                2\n",
      "91            3                3\n",
      "106           2                2\n",
      "102           4                2\n",
      "61            2                2\n",
      "99            1                2\n",
      "136           5                2 \n",
      "With all HR Features \n",
      "Accuracy:  23.52941176470588 \n",
      "MSE:  3.235294117647059\n"
     ]
    }
   ],
   "source": [
    "# Nu prøver jeg altså lige med alle HR features..\n",
    "# Loading the data\n",
    "hr_data = pd.read_csv('HR_data_transformed.csv', sep=',', header=0)\n",
    "hr_data.drop(['Unnamed: 0'], axis=1, inplace=True)\n",
    "# Vi filtrerer dataen, så de variables i \"dropped\" ikke er med - og da vi faktisk kun skal bruge HR variablerne, dropper vi alle de andre.\n",
    "filtered_hr_data = hr_data.copy()\n",
    "dropped = [\"Round\", \"Phase\", \"Individual\", \"Puzzler\", \"Cohort\"]\n",
    "\n",
    "for column_to_drop in dropped:\n",
    "    filtered_hr_data.drop(column_to_drop, axis=1, inplace=True)\n",
    "\n",
    "X = filtered_hr_data.iloc[:, :-1]  # All columns except the last one\n",
    "Y = filtered_hr_data.iloc[:, -1]   # Last column\n",
    "\n",
    "# Split the data into training and testing sets\n",
    "X_train, X_test, y_train, y_test = train_test_split(X, Y, test_size=0.2,random_state=seed)\n",
    "\n",
    "# Standardize the features using StandardScaler\n",
    "scaler = StandardScaler()\n",
    "X_train_scaled = scaler.fit_transform(X_train)\n",
    "X_test_scaled = scaler.transform(X_test)\n",
    "\n",
    "\n",
    "# Let's make the Baseline model - Simple Linear Regression model!\n",
    "reg2 = LinearRegression()\n",
    "\n",
    "# fit\n",
    "reg2.fit(X_train_scaled, y_train)\n",
    "\n",
    "# predict\n",
    "y_pred_reg2 = reg2.predict(X_test_scaled).round().astype(int)\n",
    "\n",
    "# quick and easy evaluation\n",
    "mse = mean_squared_error(y_test, y_pred_reg2)\n",
    "accuracy = accuracy_score(y_test,y_pred_reg2)\n",
    "predictions_df = pd.DataFrame({'TrueValues': y_test, 'PredictedValues': y_pred_reg2})\n",
    "\n",
    "print(predictions_df,\"\\nWith all HR Features\",\"\\nAccuracy: \",accuracy*100,\"\\nMSE: \",mse)"
   ]
  },
  {
   "cell_type": "markdown",
   "metadata": {},
   "source": [
    "Ved ikke helt hvad jeg skal konkludere dér, for de to modeller har omtrent samme MSE tror jeg."
   ]
  },
  {
   "cell_type": "markdown",
   "metadata": {},
   "source": [
    "# Now for the CV | Cross-Validation"
   ]
  },
  {
   "cell_type": "markdown",
   "metadata": {},
   "source": [
    "# With HR_Median and HR_std"
   ]
  },
  {
   "cell_type": "markdown",
   "metadata": {},
   "source": [
    "Loading the Data | This is the data without HR_Median & HR_std!"
   ]
  },
  {
   "cell_type": "code",
   "execution_count": 357,
   "metadata": {},
   "outputs": [
    {
     "name": "stdout",
     "output_type": "stream",
     "text": [
      "       HR_Mean  HR_Min  HR_Max     HR_AUC  Frustrated\n",
      "0    77.965186   73.23   83.37  22924.945           1\n",
      "1    70.981097   67.12   78.22  21930.400           5\n",
      "2    73.371959   67.88   80.22  21647.085           0\n",
      "3    78.916822   72.32   84.92  25258.905           1\n",
      "4    77.322226   70.52   90.15  23890.565           5\n",
      "..         ...     ...     ...        ...         ...\n",
      "163  73.594539   57.43   93.53  21482.985           8\n",
      "164  57.839897   52.97   74.14  16825.740           0\n",
      "165  64.237295   58.97   72.63  18691.065           1\n",
      "166  70.834320   66.65   76.07  20753.005           4\n",
      "167  71.133878   57.17  114.33  20820.320           0\n",
      "\n",
      "[168 rows x 5 columns]\n"
     ]
    }
   ],
   "source": [
    "\n",
    "# Loading the data\n",
    "hr_data = pd.read_csv('HR_data_transformed.csv', sep=',', header=0)\n",
    "hr_data.drop(['Unnamed: 0'], axis=1, inplace=True)\n",
    "# Vi filtrerer dataen, så de variables i \"dropped\" ikke er med - og da vi faktisk kun skal bruge HR variablerne, dropper vi alle de andre.\n",
    "filtered_hr_data = hr_data.copy()\n",
    "dropped = [\"HR_Median\", \"HR_std\", \"Round\", \"Phase\", \"Individual\", \"Puzzler\", \"Cohort\"]\n",
    "\n",
    "for column_to_drop in dropped:\n",
    "    filtered_hr_data.drop(column_to_drop, axis=1, inplace=True)\n",
    "\n",
    "X = filtered_hr_data.iloc[:, :-1]  # All columns except the last one\n",
    "Y = filtered_hr_data.iloc[:, -1]   # Last column\n",
    "print(filtered_hr_data)"
   ]
  },
  {
   "cell_type": "code",
   "execution_count": 358,
   "metadata": {},
   "outputs": [],
   "source": [
    "%%capture\n",
    "from sklearn.linear_model import LinearRegression\n",
    "from sklearn.preprocessing import StandardScaler\n",
    "from sklearn.metrics import mean_squared_error, accuracy_score\n",
    "import pandas as pd\n",
    "import numpy as np\n",
    "\n",
    "model = LinearRegression()\n",
    "accuracyArray = []\n",
    "X = filtered_hr_data.iloc[:, :-1]  # All columns except the last one\n",
    "Y = filtered_hr_data.iloc[:, -1]   # Last column\n",
    "\n",
    "for i in range(len(Y)):\n",
    "    X_train, X_test, y_train, y_test = X.drop(i), X.loc[i].values.reshape(1, -1), Y.drop(i), Y.values[i]\n",
    "\n",
    "    # Scale the data\n",
    "    scaler = StandardScaler()\n",
    "    X_train_scaled = scaler.fit_transform(X_train)\n",
    "    X_test_scaled = scaler.transform(X_test)\n",
    "\n",
    "    model.fit(X_train_scaled, y_train)\n",
    "    y_pred = model.predict(X_test_scaled).round().astype(int)\n",
    "\n",
    "    # Convert scalar y_test to an array\n",
    "    y_test_array = np.array([y_test])\n",
    "\n",
    "    # Quick and easy evaluation\n",
    "    accuracy = accuracy_score(y_test_array, y_pred)\n",
    "    accuracyArray.append(accuracy)\n",
    "\n",
    "average_accuracy = np.mean(accuracyArray)\n",
    "\n"
   ]
  },
  {
   "cell_type": "code",
   "execution_count": 359,
   "metadata": {},
   "outputs": [
    {
     "name": "stdout",
     "output_type": "stream",
     "text": [
      "Average Accuracy: 15.476190476190476\n"
     ]
    }
   ],
   "source": [
    "print(\"Average Accuracy:\", average_accuracy*100)"
   ]
  },
  {
   "cell_type": "markdown",
   "metadata": {},
   "source": [
    "# With all HR"
   ]
  },
  {
   "cell_type": "code",
   "execution_count": 360,
   "metadata": {},
   "outputs": [],
   "source": [
    "\n",
    "%%capture\n",
    "# Loading the data\n",
    "hr_data = pd.read_csv('HR_data_transformed.csv', sep=',', header=0)\n",
    "hr_data.drop(['Unnamed: 0'], axis=1, inplace=True)\n",
    "# Vi filtrerer dataen, så de variables i \"dropped\" ikke er med - og da vi faktisk kun skal bruge HR variablerne, dropper vi alle de andre.\n",
    "filtered_hr_data = hr_data.copy()\n",
    "dropped = [\"Round\", \"Phase\", \"Individual\", \"Puzzler\", \"Cohort\"]\n",
    "\n",
    "for column_to_drop in dropped:\n",
    "    filtered_hr_data.drop(column_to_drop, axis=1, inplace=True)\n",
    "\n",
    "X = filtered_hr_data.iloc[:, :-1]  # All columns except the last one\n",
    "Y = filtered_hr_data.iloc[:, -1]   # Last column\n",
    "print(filtered_hr_data)\n",
    "\n",
    "\n",
    "from sklearn.linear_model import LinearRegression\n",
    "from sklearn.preprocessing import StandardScaler\n",
    "from sklearn.metrics import mean_squared_error, accuracy_score\n",
    "import pandas as pd\n",
    "import numpy as np\n",
    "\n",
    "model = LinearRegression()\n",
    "accuracyArray = []\n",
    "X = filtered_hr_data.iloc[:, :-1]  # All columns except the last one\n",
    "Y = filtered_hr_data.iloc[:, -1]   # Last column\n",
    "\n",
    "for i in range(len(Y)):\n",
    "    X_train, X_test, y_train, y_test = X.drop(i), X.loc[i].values.reshape(1, -1), Y.drop(i), Y.values[i]\n",
    "\n",
    "    # Scale the data\n",
    "    scaler = StandardScaler()\n",
    "    X_train_scaled = scaler.fit_transform(X_train)\n",
    "    X_test_scaled = scaler.transform(X_test)\n",
    "\n",
    "    model.fit(X_train_scaled, y_train)\n",
    "    y_pred = model.predict(X_test_scaled).round().astype(int)\n",
    "\n",
    "    # Convert scalar y_test to an array\n",
    "    y_test_array = np.array([y_test])\n",
    "\n",
    "    # Quick and easy evaluation\n",
    "    accuracy = accuracy_score(y_test_array, y_pred)\n",
    "    accuracyArray.append(accuracy)\n",
    "\n",
    "average_accuracy = np.mean(accuracyArray)\n",
    "\n"
   ]
  },
  {
   "cell_type": "code",
   "execution_count": 361,
   "metadata": {},
   "outputs": [
    {
     "name": "stdout",
     "output_type": "stream",
     "text": [
      "Average Accuracy: 15.476190476190476\n"
     ]
    }
   ],
   "source": [
    "print(\"Average Accuracy:\", average_accuracy*100)"
   ]
  },
  {
   "cell_type": "markdown",
   "metadata": {},
   "source": [
    "# HR_Median & HR_Min features!"
   ]
  },
  {
   "cell_type": "code",
   "execution_count": 362,
   "metadata": {},
   "outputs": [],
   "source": [
    "%%capture\n",
    "# Loading the data\n",
    "hr_data = pd.read_csv('HR_data_transformed.csv', sep=',', header=0)\n",
    "hr_data.drop(['Unnamed: 0'], axis=1, inplace=True)\n",
    "# Vi filtrerer dataen, så de variables i \"dropped\" ikke er med - og da vi faktisk kun skal bruge HR variablerne, dropper vi alle de andre.\n",
    "filtered_hr_data = hr_data.copy()\n",
    "dropped = [\"HR_Median\", \"HR_Min\",\"Round\", \"Phase\", \"Individual\", \"Puzzler\", \"Cohort\"]\n",
    "\n",
    "for column_to_drop in dropped:\n",
    "    filtered_hr_data.drop(column_to_drop, axis=1, inplace=True)\n",
    "\n",
    "X = filtered_hr_data.iloc[:, :-1]  # All columns except the last one\n",
    "Y = filtered_hr_data.iloc[:, -1]   # Last column\n",
    "print(filtered_hr_data)\n",
    "\n",
    "\n",
    "from sklearn.linear_model import LinearRegression\n",
    "from sklearn.preprocessing import StandardScaler\n",
    "from sklearn.metrics import mean_squared_error, accuracy_score\n",
    "import pandas as pd\n",
    "import numpy as np\n",
    "\n",
    "model = LinearRegression()\n",
    "accuracyArray = []\n",
    "X = filtered_hr_data.iloc[:, :-1]  # All columns except the last one\n",
    "Y = filtered_hr_data.iloc[:, -1]   # Last column\n",
    "\n",
    "for i in range(len(Y)):\n",
    "    X_train, X_test, y_train, y_test = X.drop(i), X.loc[i].values.reshape(1, -1), Y.drop(i), Y.values[i]\n",
    "\n",
    "    # Scale the data\n",
    "    scaler = StandardScaler()\n",
    "    X_train_scaled = scaler.fit_transform(X_train)\n",
    "    X_test_scaled = scaler.transform(X_test)\n",
    "\n",
    "    model.fit(X_train_scaled, y_train)\n",
    "    y_pred = model.predict(X_test_scaled).round().astype(int)\n",
    "\n",
    "    # Convert scalar y_test to an array\n",
    "    y_test_array = np.array([y_test])\n",
    "\n",
    "    # Quick and easy evaluation\n",
    "    accuracy = accuracy_score(y_test_array, y_pred)\n",
    "    accuracyArray.append(accuracy)\n",
    "\n",
    "average_accuracy = np.mean(accuracyArray)\n",
    "\n"
   ]
  },
  {
   "cell_type": "code",
   "execution_count": 363,
   "metadata": {},
   "outputs": [
    {
     "name": "stdout",
     "output_type": "stream",
     "text": [
      "Average Accuracy: 17.261904761904763\n"
     ]
    }
   ],
   "source": [
    "print(\"Average Accuracy:\", average_accuracy*100)"
   ]
  },
  {
   "cell_type": "markdown",
   "metadata": {},
   "source": [
    "# Så der er ingen forskel udover når man fjerner \"HR_Median\", \"HR_Min\""
   ]
  },
  {
   "cell_type": "markdown",
   "metadata": {},
   "source": [
    "# Som giver højeste accuracy"
   ]
  }
 ],
 "metadata": {
  "kernelspec": {
   "display_name": "Python 3.10.9 64-bit",
   "language": "python",
   "name": "python3"
  },
  "language_info": {
   "codemirror_mode": {
    "name": "ipython",
    "version": 3
   },
   "file_extension": ".py",
   "mimetype": "text/x-python",
   "name": "python",
   "nbconvert_exporter": "python",
   "pygments_lexer": "ipython3",
   "version": "3.10.9"
  },
  "vscode": {
   "interpreter": {
    "hash": "26de051ba29f2982a8de78e945f0abaf191376122a1563185a90213a26c5da77"
   }
  }
 },
 "nbformat": 4,
 "nbformat_minor": 2
}
